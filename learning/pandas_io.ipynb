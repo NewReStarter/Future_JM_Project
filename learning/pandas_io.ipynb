{
 "cells": [
  {
   "cell_type": "code",
   "execution_count": 1,
   "metadata": {
    "collapsed": true
   },
   "outputs": [],
   "source": [
    "import pandas as pd\n",
    "from pandas import Series, DataFrame"
   ]
  },
  {
   "cell_type": "code",
   "execution_count": 2,
   "metadata": {
    "collapsed": true
   },
   "outputs": [],
   "source": [
    "#read csv\n",
    "\n",
    "# specify delimeter\n",
    "# df = pd.read_csv(filename, sep = ',')\n",
    "\n",
    "# without header\n",
    "# df = pd.read_csv(filename, header = None) -> assign default value to column names\n",
    "# df = pd.read_csv(filename, names = ['a','b','c','d','message']) ->specify column names\n",
    "\n",
    "# choose index column\n",
    "# df = pd.read_csv(filename, names = names, index_col='message')\n",
    "\n",
    "# hierarchical index\n",
    "# parsed = pd.read_csv(filename, index_col=['key1','key2'])\n",
    "\n",
    "# skip row\n",
    "# df = pd.read_csv(filename, skiprows=[0,2,3])\n",
    "\n",
    "# deal with missing value\n",
    "# df = pd.read_csv(filename, na_values=['NULL'])\n",
    "# sentinels = {'message': ['foo', 'NA'], 'something': ['two']}\n",
    "# df = pd.read_csv(filename, na_values=sentinels)\n",
    "\n",
    "# TextParser Object\n",
    "# \n",
    "# df = pd.read_csv(filename, chunksize=1000) -> TextParser Object\n",
    "# tot = Series([])\n",
    "# for piece in df:\n",
    "#    tot = tot.add(piece['key'].value_counts(), fill_value=0)\n",
    "\n",
    "sal"
   ]
  },
  {
   "cell_type": "code",
   "execution_count": 4,
   "metadata": {
    "collapsed": true
   },
   "outputs": [],
   "source": [
    "# write csv\n",
    "\n",
    "# data.to_csv(filename)\n",
    "\n",
    "# Missing value, instead of empty string, use 'NULL' to represent missing value\n",
    "#\n",
    "# data.to_csv(filename, na_rep='NULL')\n",
    "\n",
    "# disable row and column label\n",
    "# data.to_csv(filename, index=False, header=False)\n"
   ]
  },
  {
   "cell_type": "code",
   "execution_count": 12,
   "metadata": {},
   "outputs": [],
   "source": [
    "#JSON\n",
    "import json\n",
    "\n",
    "obj = \"\"\" {\"name\": \"Wes\",\n",
    "\"places_lived\": [\"United States\", \"Spain\", \"Germany\"], \"pet\": null,\n",
    "\"siblings\": [{\"name\": \"Scott\", \"age\": 25, \"pet\": \"Zuko\"},\n",
    "{\"name\": \"Katie\", \"age\": 33, \"pet\": \"Cisco\"}]\n",
    "} \"\"\"\n",
    "result = json.loads(obj)\n",
    "asjson = json.dumps(result)\n",
    "\n"
   ]
  },
  {
   "cell_type": "code",
   "execution_count": 13,
   "metadata": {},
   "outputs": [
    {
     "data": {
      "text/html": [
       "<div>\n",
       "<style>\n",
       "    .dataframe thead tr:only-child th {\n",
       "        text-align: right;\n",
       "    }\n",
       "\n",
       "    .dataframe thead th {\n",
       "        text-align: left;\n",
       "    }\n",
       "\n",
       "    .dataframe tbody tr th {\n",
       "        vertical-align: top;\n",
       "    }\n",
       "</style>\n",
       "<table border=\"1\" class=\"dataframe\">\n",
       "  <thead>\n",
       "    <tr style=\"text-align: right;\">\n",
       "      <th></th>\n",
       "      <th>name</th>\n",
       "      <th>age</th>\n",
       "      <th>pet</th>\n",
       "    </tr>\n",
       "  </thead>\n",
       "  <tbody>\n",
       "    <tr>\n",
       "      <th>0</th>\n",
       "      <td>Scott</td>\n",
       "      <td>25</td>\n",
       "      <td>Zuko</td>\n",
       "    </tr>\n",
       "    <tr>\n",
       "      <th>1</th>\n",
       "      <td>Katie</td>\n",
       "      <td>33</td>\n",
       "      <td>Cisco</td>\n",
       "    </tr>\n",
       "  </tbody>\n",
       "</table>\n",
       "</div>"
      ],
      "text/plain": [
       "    name  age    pet\n",
       "0  Scott   25   Zuko\n",
       "1  Katie   33  Cisco"
      ]
     },
     "execution_count": 13,
     "metadata": {},
     "output_type": "execute_result"
    }
   ],
   "source": [
    "siblings = DataFrame(result['siblings'], columns=['name','age','pet'])\n",
    "siblings"
   ]
  },
  {
   "cell_type": "code",
   "execution_count": 18,
   "metadata": {},
   "outputs": [
    {
     "data": {
      "text/plain": [
       "<Response [200]>"
      ]
     },
     "execution_count": 18,
     "metadata": {},
     "output_type": "execute_result"
    }
   ],
   "source": [
    "# Interacting with web data\n",
    "import requests\n",
    "\n",
    "header = {'User-Agent' : 'Mozilla/5.0 (Windows NT 6.1; WOW64) AppleWebKit/537.36 (KHTML, like Gecko) Chrome/39.0.2171.71 Safari/537.36'}   \n",
    "url = 'https://api.huobi.pro/market/history/kline?period=1min&size=20&symbol=btcusdt'\n",
    "\n",
    "resp = requests.get(url, headers=header)\n",
    "resp"
   ]
  },
  {
   "cell_type": "code",
   "execution_count": 20,
   "metadata": {},
   "outputs": [
    {
     "data": {
      "text/plain": [
       "{'ch': 'market.btcusdt.kline.1min',\n",
       " 'data': [{'amount': 6.3112,\n",
       "   'close': 16670.0,\n",
       "   'count': 104,\n",
       "   'high': 16705.0,\n",
       "   'id': 1513823400,\n",
       "   'low': 16670.0,\n",
       "   'open': 16702.24,\n",
       "   'vol': 105279.157888},\n",
       "  {'amount': 5.395480045370994,\n",
       "   'close': 16702.24,\n",
       "   'count': 110,\n",
       "   'high': 16702.24,\n",
       "   'id': 1513823340,\n",
       "   'low': 16670.05,\n",
       "   'open': 16674.38,\n",
       "   'vol': 89991.17369698056},\n",
       "  {'amount': 8.454055889204971,\n",
       "   'close': 16674.58,\n",
       "   'count': 128,\n",
       "   'high': 16703.03,\n",
       "   'id': 1513823280,\n",
       "   'low': 16674.15,\n",
       "   'open': 16693.0,\n",
       "   'vol': 140990.3213267378},\n",
       "  {'amount': 2.7674,\n",
       "   'close': 16703.05,\n",
       "   'count': 74,\n",
       "   'high': 16703.05,\n",
       "   'id': 1513823220,\n",
       "   'low': 16674.07,\n",
       "   'open': 16689.51,\n",
       "   'vol': 46204.746667383304},\n",
       "  {'amount': 3.3467,\n",
       "   'close': 16689.71,\n",
       "   'count': 134,\n",
       "   'high': 16690.02,\n",
       "   'id': 1513823160,\n",
       "   'low': 16671.16,\n",
       "   'open': 16689.95,\n",
       "   'vol': 55833.019319},\n",
       "  {'amount': 2.256,\n",
       "   'close': 16690.0,\n",
       "   'count': 62,\n",
       "   'high': 16695.57,\n",
       "   'id': 1513823100,\n",
       "   'low': 16672.74,\n",
       "   'open': 16672.74,\n",
       "   'vol': 37635.169385},\n",
       "  {'amount': 5.2786,\n",
       "   'close': 16672.29,\n",
       "   'count': 119,\n",
       "   'high': 16695.63,\n",
       "   'id': 1513823040,\n",
       "   'low': 16667.0,\n",
       "   'open': 16695.26,\n",
       "   'vol': 88098.433661},\n",
       "  {'amount': 7.171862730405845,\n",
       "   'close': 16695.27,\n",
       "   'count': 148,\n",
       "   'high': 16695.6,\n",
       "   'id': 1513822980,\n",
       "   'low': 16660.19,\n",
       "   'open': 16695.58,\n",
       "   'vol': 119555.87038265268},\n",
       "  {'amount': 4.940849983393409,\n",
       "   'close': 16695.58,\n",
       "   'count': 147,\n",
       "   'high': 16705.54,\n",
       "   'id': 1513822920,\n",
       "   'low': 16659.8,\n",
       "   'open': 16705.52,\n",
       "   'vol': 82484.48252175625},\n",
       "  {'amount': 4.1588248698977415,\n",
       "   'close': 16705.57,\n",
       "   'count': 98,\n",
       "   'high': 16736.39,\n",
       "   'id': 1513822860,\n",
       "   'low': 16701.0,\n",
       "   'open': 16701.69,\n",
       "   'vol': 69502.2036518113},\n",
       "  {'amount': 2.449612626637089,\n",
       "   'close': 16701.69,\n",
       "   'count': 95,\n",
       "   'high': 16737.79,\n",
       "   'id': 1513822800,\n",
       "   'low': 16695.7,\n",
       "   'open': 16717.87,\n",
       "   'vol': 40946.103303},\n",
       "  {'amount': 1.6282651031667397,\n",
       "   'close': 16737.99,\n",
       "   'count': 34,\n",
       "   'high': 16737.99,\n",
       "   'id': 1513822740,\n",
       "   'low': 16660.38,\n",
       "   'open': 16694.78,\n",
       "   'vol': 27211.237856723754},\n",
       "  {'amount': 2.639963844895715,\n",
       "   'close': 16695.63,\n",
       "   'count': 70,\n",
       "   'high': 16717.93,\n",
       "   'id': 1513822680,\n",
       "   'low': 16660.02,\n",
       "   'open': 16700.18,\n",
       "   'vol': 44043.26119403314},\n",
       "  {'amount': 5.909,\n",
       "   'close': 16700.18,\n",
       "   'count': 86,\n",
       "   'high': 16739.93,\n",
       "   'id': 1513822620,\n",
       "   'low': 16700.18,\n",
       "   'open': 16701.0,\n",
       "   'vol': 98779.218199},\n",
       "  {'amount': 8.0757,\n",
       "   'close': 16740.33,\n",
       "   'count': 69,\n",
       "   'high': 16742.16,\n",
       "   'id': 1513822560,\n",
       "   'low': 16700.0,\n",
       "   'open': 16742.08,\n",
       "   'vol': 134886.3303585871},\n",
       "  {'amount': 2.3452195694932483,\n",
       "   'close': 16700.18,\n",
       "   'count': 50,\n",
       "   'high': 16742.29,\n",
       "   'id': 1513822500,\n",
       "   'low': 16700.0,\n",
       "   'open': 16718.0,\n",
       "   'vol': 39170.848179},\n",
       "  {'amount': 1.246769777612415,\n",
       "   'close': 16700.72,\n",
       "   'count': 64,\n",
       "   'high': 16757.77,\n",
       "   'id': 1513822440,\n",
       "   'low': 16699.71,\n",
       "   'open': 16718.0,\n",
       "   'vol': 20842.39121918},\n",
       "  {'amount': 4.961576788744247,\n",
       "   'close': 16718.6,\n",
       "   'count': 84,\n",
       "   'high': 16723.96,\n",
       "   'id': 1513822380,\n",
       "   'low': 16695.64,\n",
       "   'open': 16695.68,\n",
       "   'vol': 82859.76045131701},\n",
       "  {'amount': 3.971461816414493,\n",
       "   'close': 16695.68,\n",
       "   'count': 107,\n",
       "   'high': 16695.7,\n",
       "   'id': 1513822320,\n",
       "   'low': 16684.74,\n",
       "   'open': 16684.94,\n",
       "   'vol': 66285.78616880937},\n",
       "  {'amount': 2.869202665632308,\n",
       "   'close': 16684.94,\n",
       "   'count': 104,\n",
       "   'high': 16688.5,\n",
       "   'id': 1513822260,\n",
       "   'low': 16660.28,\n",
       "   'open': 16687.1,\n",
       "   'vol': 47878.90567668483}],\n",
       " 'status': 'ok',\n",
       " 'ts': 1513823455796}"
      ]
     },
     "execution_count": 20,
     "metadata": {},
     "output_type": "execute_result"
    }
   ],
   "source": [
    "json_data = json.loads(resp.text)\n",
    "json_data"
   ]
  },
  {
   "cell_type": "code",
   "execution_count": 22,
   "metadata": {},
   "outputs": [
    {
     "data": {
      "text/plain": [
       "dict_keys(['status', 'ch', 'ts', 'data'])"
      ]
     },
     "execution_count": 22,
     "metadata": {},
     "output_type": "execute_result"
    }
   ],
   "source": [
    "json_data.keys()"
   ]
  },
  {
   "cell_type": "code",
   "execution_count": 25,
   "metadata": {},
   "outputs": [
    {
     "data": {
      "text/html": [
       "<div>\n",
       "<style>\n",
       "    .dataframe thead tr:only-child th {\n",
       "        text-align: right;\n",
       "    }\n",
       "\n",
       "    .dataframe thead th {\n",
       "        text-align: left;\n",
       "    }\n",
       "\n",
       "    .dataframe tbody tr th {\n",
       "        vertical-align: top;\n",
       "    }\n",
       "</style>\n",
       "<table border=\"1\" class=\"dataframe\">\n",
       "  <thead>\n",
       "    <tr style=\"text-align: right;\">\n",
       "      <th></th>\n",
       "      <th>close</th>\n",
       "    </tr>\n",
       "  </thead>\n",
       "  <tbody>\n",
       "    <tr>\n",
       "      <th>0</th>\n",
       "      <td>16670.00</td>\n",
       "    </tr>\n",
       "    <tr>\n",
       "      <th>1</th>\n",
       "      <td>16702.24</td>\n",
       "    </tr>\n",
       "    <tr>\n",
       "      <th>2</th>\n",
       "      <td>16674.58</td>\n",
       "    </tr>\n",
       "    <tr>\n",
       "      <th>3</th>\n",
       "      <td>16703.05</td>\n",
       "    </tr>\n",
       "    <tr>\n",
       "      <th>4</th>\n",
       "      <td>16689.71</td>\n",
       "    </tr>\n",
       "    <tr>\n",
       "      <th>5</th>\n",
       "      <td>16690.00</td>\n",
       "    </tr>\n",
       "    <tr>\n",
       "      <th>6</th>\n",
       "      <td>16672.29</td>\n",
       "    </tr>\n",
       "    <tr>\n",
       "      <th>7</th>\n",
       "      <td>16695.27</td>\n",
       "    </tr>\n",
       "    <tr>\n",
       "      <th>8</th>\n",
       "      <td>16695.58</td>\n",
       "    </tr>\n",
       "    <tr>\n",
       "      <th>9</th>\n",
       "      <td>16705.57</td>\n",
       "    </tr>\n",
       "    <tr>\n",
       "      <th>10</th>\n",
       "      <td>16701.69</td>\n",
       "    </tr>\n",
       "    <tr>\n",
       "      <th>11</th>\n",
       "      <td>16737.99</td>\n",
       "    </tr>\n",
       "    <tr>\n",
       "      <th>12</th>\n",
       "      <td>16695.63</td>\n",
       "    </tr>\n",
       "    <tr>\n",
       "      <th>13</th>\n",
       "      <td>16700.18</td>\n",
       "    </tr>\n",
       "    <tr>\n",
       "      <th>14</th>\n",
       "      <td>16740.33</td>\n",
       "    </tr>\n",
       "    <tr>\n",
       "      <th>15</th>\n",
       "      <td>16700.18</td>\n",
       "    </tr>\n",
       "    <tr>\n",
       "      <th>16</th>\n",
       "      <td>16700.72</td>\n",
       "    </tr>\n",
       "    <tr>\n",
       "      <th>17</th>\n",
       "      <td>16718.60</td>\n",
       "    </tr>\n",
       "    <tr>\n",
       "      <th>18</th>\n",
       "      <td>16695.68</td>\n",
       "    </tr>\n",
       "    <tr>\n",
       "      <th>19</th>\n",
       "      <td>16684.94</td>\n",
       "    </tr>\n",
       "  </tbody>\n",
       "</table>\n",
       "</div>"
      ],
      "text/plain": [
       "       close\n",
       "0   16670.00\n",
       "1   16702.24\n",
       "2   16674.58\n",
       "3   16703.05\n",
       "4   16689.71\n",
       "5   16690.00\n",
       "6   16672.29\n",
       "7   16695.27\n",
       "8   16695.58\n",
       "9   16705.57\n",
       "10  16701.69\n",
       "11  16737.99\n",
       "12  16695.63\n",
       "13  16700.18\n",
       "14  16740.33\n",
       "15  16700.18\n",
       "16  16700.72\n",
       "17  16718.60\n",
       "18  16695.68\n",
       "19  16684.94"
      ]
     },
     "execution_count": 25,
     "metadata": {},
     "output_type": "execute_result"
    }
   ],
   "source": [
    "data_field = ['close']\n",
    "candleline_data = DataFrame(json_data['data'], columns=data_field)\n",
    "candleline_data"
   ]
  },
  {
   "cell_type": "code",
   "execution_count": 26,
   "metadata": {
    "collapsed": true
   },
   "outputs": [],
   "source": [
    "# Interacting with database"
   ]
  },
  {
   "cell_type": "code",
   "execution_count": 27,
   "metadata": {
    "collapsed": true
   },
   "outputs": [],
   "source": [
    "import sqlite3\n",
    "\n",
    "query = \"\"\"\n",
    "CREATE TABLE test\n",
    "(a VARCHAR(20), b VARCHAR(20),\n",
    "c REAL, d INTEGER );\"\"\"\n",
    "con = sqlite3.connect(':memory:')\n",
    "con.execute(query)\n",
    "con.commit()"
   ]
  },
  {
   "cell_type": "code",
   "execution_count": 28,
   "metadata": {
    "collapsed": true
   },
   "outputs": [],
   "source": [
    "data = [('Atlanta', 'Georgia', 1.25, 6), ('Tallahassee', 'Florida', 2.6, 3), ('Sacramento', 'California', 1.7, 5)]\n",
    "stmt = \"INSERT INTO test VALUES(?, ?, ?, ?)\"\n",
    "\n",
    "con.executemany(stmt, data)\n",
    "con.commit()"
   ]
  },
  {
   "cell_type": "code",
   "execution_count": 31,
   "metadata": {},
   "outputs": [
    {
     "data": {
      "text/plain": [
       "[('Atlanta', 'Georgia', 1.25, 6),\n",
       " ('Tallahassee', 'Florida', 2.6, 3),\n",
       " ('Sacramento', 'California', 1.7, 5)]"
      ]
     },
     "execution_count": 31,
     "metadata": {},
     "output_type": "execute_result"
    }
   ],
   "source": [
    "cursor = con.execute('select * from test')\n",
    "rows = cursor.fetchall()\n",
    "rows"
   ]
  },
  {
   "cell_type": "code",
   "execution_count": 32,
   "metadata": {},
   "outputs": [
    {
     "data": {
      "text/plain": [
       "(('a', None, None, None, None, None, None),\n",
       " ('b', None, None, None, None, None, None),\n",
       " ('c', None, None, None, None, None, None),\n",
       " ('d', None, None, None, None, None, None))"
      ]
     },
     "execution_count": 32,
     "metadata": {},
     "output_type": "execute_result"
    }
   ],
   "source": [
    "cursor.description"
   ]
  },
  {
   "cell_type": "code",
   "execution_count": 36,
   "metadata": {},
   "outputs": [
    {
     "data": {
      "text/html": [
       "<div>\n",
       "<style>\n",
       "    .dataframe thead tr:only-child th {\n",
       "        text-align: right;\n",
       "    }\n",
       "\n",
       "    .dataframe thead th {\n",
       "        text-align: left;\n",
       "    }\n",
       "\n",
       "    .dataframe tbody tr th {\n",
       "        vertical-align: top;\n",
       "    }\n",
       "</style>\n",
       "<table border=\"1\" class=\"dataframe\">\n",
       "  <thead>\n",
       "    <tr style=\"text-align: right;\">\n",
       "      <th></th>\n",
       "      <th>a</th>\n",
       "      <th>b</th>\n",
       "      <th>c</th>\n",
       "      <th>d</th>\n",
       "    </tr>\n",
       "  </thead>\n",
       "  <tbody>\n",
       "    <tr>\n",
       "      <th>0</th>\n",
       "      <td>Atlanta</td>\n",
       "      <td>Georgia</td>\n",
       "      <td>1.25</td>\n",
       "      <td>6</td>\n",
       "    </tr>\n",
       "    <tr>\n",
       "      <th>1</th>\n",
       "      <td>Tallahassee</td>\n",
       "      <td>Florida</td>\n",
       "      <td>2.60</td>\n",
       "      <td>3</td>\n",
       "    </tr>\n",
       "    <tr>\n",
       "      <th>2</th>\n",
       "      <td>Sacramento</td>\n",
       "      <td>California</td>\n",
       "      <td>1.70</td>\n",
       "      <td>5</td>\n",
       "    </tr>\n",
       "  </tbody>\n",
       "</table>\n",
       "</div>"
      ],
      "text/plain": [
       "             a           b     c  d\n",
       "0      Atlanta     Georgia  1.25  6\n",
       "1  Tallahassee     Florida  2.60  3\n",
       "2   Sacramento  California  1.70  5"
      ]
     },
     "execution_count": 36,
     "metadata": {},
     "output_type": "execute_result"
    }
   ],
   "source": [
    "DataFrame(rows, columns=list(zip(*cursor.description))[0])\n",
    "#note that zip(iteratable) returns a an iterable object, in order to make it subscriptable, use list(zip(*ngram))"
   ]
  },
  {
   "cell_type": "code",
   "execution_count": null,
   "metadata": {},
   "outputs": [],
   "source": []
  },
  {
   "cell_type": "code",
   "execution_count": null,
   "metadata": {
    "collapsed": true
   },
   "outputs": [],
   "source": []
  }
 ],
 "metadata": {
  "kernelspec": {
   "display_name": "Python 3",
   "language": "python",
   "name": "python3"
  },
  "language_info": {
   "codemirror_mode": {
    "name": "ipython",
    "version": 3
   },
   "file_extension": ".py",
   "mimetype": "text/x-python",
   "name": "python",
   "nbconvert_exporter": "python",
   "pygments_lexer": "ipython3",
   "version": "3.6.1"
  }
 },
 "nbformat": 4,
 "nbformat_minor": 2
}
